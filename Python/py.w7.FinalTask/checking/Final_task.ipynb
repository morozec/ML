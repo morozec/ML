{
 "cells": [
  {
   "cell_type": "markdown",
   "metadata": {},
   "source": [
    "### Этап 1, градиентный бустинг \"в лоб\""
   ]
  },
  {
   "cell_type": "code",
   "execution_count": 1,
   "metadata": {
    "collapsed": true
   },
   "outputs": [],
   "source": [
    "#импорт необходимых библиотек и методов\n",
    "import pandas as pd\n",
    "import numpy as np\n",
    "from sklearn.model_selection import cross_val_score, KFold\n",
    "from sklearn.ensemble import GradientBoostingClassifier as GBC\n",
    "\n",
    "data = pd.read_csv('features.csv', index_col='match_id')\n",
    "\n",
    "# формирование обучающей выборки и целевой переменной\n",
    "y_train = data['radiant_win']\n",
    "X_train = data.drop(['duration','tower_status_radiant','tower_status_dire',\n",
    "                    'barracks_status_radiant','barracks_status_dire','radiant_win'],axis=1)\n",
    "l = len(X_train)"
   ]
  },
  {
   "cell_type": "markdown",
   "metadata": {},
   "source": [
    "1.&nbsp;Какие признаки имеют пропуски среди своих значений (приведите полный список имен этих признаков)? Что могут означать пропуски в этих признаках (ответьте на этот вопрос для двух любых признаков)?"
   ]
  },
  {
   "cell_type": "code",
   "execution_count": 2,
   "metadata": {
    "collapsed": false
   },
   "outputs": [
    {
     "name": "stdout",
     "output_type": "stream",
     "text": [
      "0                first_blood_time\n",
      "1                first_blood_team\n",
      "2             first_blood_player1\n",
      "3             first_blood_player2\n",
      "4             radiant_bottle_time\n",
      "5            radiant_courier_time\n",
      "6     radiant_flying_courier_time\n",
      "7         radiant_first_ward_time\n",
      "8                dire_bottle_time\n",
      "9               dire_courier_time\n",
      "10       dire_flying_courier_time\n",
      "11           dire_first_ward_time\n",
      "dtype: object\n"
     ]
    }
   ],
   "source": [
    "# объект missings содержит имена признаков, \n",
    "# содержащих пропущенные значения\n",
    "\n",
    "missings = pd.Series(X_train.columns[X_train.count() < l])\n",
    "print missings"
   ]
  },
  {
   "cell_type": "markdown",
   "metadata": {},
   "source": [
    "Данные признаки отвечают за время наступления того или иного события, (\"первая кровь\", приобретение предметов), а также за параметры, с ними связанные (команда, совершившая \"первую кровь\" и соответствующие игроки). Пропуски во всех этих признаках могут означать, что событие не наступило за первые пять минут игры. "
   ]
  },
  {
   "cell_type": "markdown",
   "metadata": {},
   "source": [
    "2.&nbsp;Как называется столбец, содержащий целевую переменную?"
   ]
  },
  {
   "cell_type": "raw",
   "metadata": {},
   "source": [
    "radiant_win"
   ]
  },
  {
   "cell_type": "markdown",
   "metadata": {},
   "source": [
    "3.&nbsp;Как долго проводилась кросс-валидация для градиентного бустинга с 30 деревьями? Какое качество при этом получилось?"
   ]
  },
  {
   "cell_type": "code",
   "execution_count": 3,
   "metadata": {
    "collapsed": true
   },
   "outputs": [],
   "source": [
    "from sklearn.model_selection import cross_val_score, KFold\n",
    "from sklearn.ensemble import GradientBoostingClassifier as GBC\n",
    "from time import time\n",
    "#заполнение пустых значений - подходы:\n",
    "# 1. заполнить нулями (+ для регрессии)\n",
    "# 2. заполнить большими/маленькими значениями (+ для деревьев)\n",
    "# 3. заполнить средними или медианами\n",
    "\n",
    "X_train = X_train.fillna(0.,axis=1)\n",
    "\n",
    "#инициализация генератора для кросс-валидации и классификации\n",
    "gen = KFold(n_splits = 5,shuffle=True)\n",
    "clf1 = GBC(n_estimators = 30, max_depth=2,warm_start=True)\n",
    "\n",
    "#обучение алгоритма и вычисление времени выполнения\n",
    "#t0 = time()\n",
    "#clf1.fit(X_train,y_train)\n",
    "#print(\"Настройка модели заняла %0.3f сек.\" % (time() - t0))\n",
    "\n",
    "#кросс-валидация и вычисление времени её выполнения\n",
    "#t0 = time()\n",
    "#cvs = cross_val_score(estimator=clf1, X=X_train, y=y_train,\n",
    "#                      cv=gen, scoring='roc_auc')\n",
    "#print(\"Оценка качества заняла %0.3f сек.\" % (time() - t0))\n",
    "\n",
    "#print cvs, cvs.mean()"
   ]
  },
  {
   "cell_type": "markdown",
   "metadata": {},
   "source": [
    "4.&nbsp;Имеет ли смысл использовать больше 30 деревьев в градиентном бустинге? Что можно сделать, чтобы ускорить его обучение при увеличении количества деревьев?\n",
    "\n",
    "Увеличение числа деревьев может улучшить качество классификации, так как отличительной особенностью градиентного бустинга является высокая обобщающая способность. Но добавления большого количества деревьев увеличит время работы алгоритма. В качестве варианта  ускорения обучения при увеличении количества деревьев, можно попробовать упростить обучающую выборку (отсечь наименее важные признаки, уменьшить их размерность либо брать для обучения только часть объектов из выборки) или  упростить модель обучения (ограничить глубину деревьев, использовать \"теплый старт\")."
   ]
  },
  {
   "cell_type": "markdown",
   "metadata": {},
   "source": [
    "### Этап 2, логистическая регрессия"
   ]
  },
  {
   "cell_type": "code",
   "execution_count": 4,
   "metadata": {
    "collapsed": true
   },
   "outputs": [],
   "source": [
    "from sklearn.preprocessing import StandardScaler\n",
    "from sklearn.linear_model import LogisticRegressionCV as LRCV\n",
    "\n",
    "#масштабирование признаков\n",
    "scaler = StandardScaler()\n",
    "X_train_scaled = scaler.fit_transform(X_train)"
   ]
  },
  {
   "cell_type": "markdown",
   "metadata": {},
   "source": [
    "1.&nbsp;Какое качество получилось у логистической регрессии над всеми исходными признаками? Как оно соотносится с качеством градиентного бустинга? Чем можно объяснить эту разницу? Быстрее ли работает логистическая регрессия по сравнению с градиентным бустингом?"
   ]
  },
  {
   "cell_type": "code",
   "execution_count": 5,
   "metadata": {
    "collapsed": false
   },
   "outputs": [
    {
     "name": "stdout",
     "output_type": "stream",
     "text": [
      "Оценка качества заняла 18.504 сек.\n",
      "Среднее оценки качества:  0.716356701873\n"
     ]
    }
   ],
   "source": [
    "#кросс-валидация логистической регрессии с подбором параметра С\n",
    "cs = np.geomspace(10e-5,10e4,10)\n",
    "clf2 = LRCV(Cs=cs,cv = gen,scoring='roc_auc')\n",
    "t0 = time()\n",
    "clf2.fit(X_train_scaled, y_train)\n",
    "print(\"Оценка качества заняла %0.3f сек.\" % (time() - t0))\n",
    "#определение и вывод результатов кросс-валидации при наилучшем С\n",
    "best_c_index = np.where(cs == clf2.C_)[0][0]\n",
    "best_cvs = clf2.scores_[1][:, best_c_index]\n",
    "print 'Среднее оценки качества: ', best_cvs.mean()"
   ]
  },
  {
   "cell_type": "markdown",
   "metadata": {},
   "source": [
    "Качество логистической регрессии выше, чем у градиентного бустинга. Это можно объяснить тем, что признаки объектов могут быть линейно зависимы, или пространство объектом является линейно разделимым. Логистическая регрессия работает намного быстрее, чем градиентный бустинг."
   ]
  },
  {
   "cell_type": "code",
   "execution_count": 6,
   "metadata": {
    "collapsed": false
   },
   "outputs": [
    {
     "name": "stdout",
     "output_type": "stream",
     "text": [
      "Оценка качества заняла 19.878 сек.\n",
      "Среднее оценки качества:  0.716429108309\n"
     ]
    }
   ],
   "source": [
    "#удаление категориальных признаков из выборки\n",
    "categorial = ['lobby_type','r1_hero', 'r2_hero', 'r3_hero',\n",
    "             'r4_hero', 'r5_hero', 'd1_hero', 'd2_hero',\n",
    "             'd3_hero', 'd4_hero', 'd5_hero']\n",
    "X_train_without_cats = X_train.drop(categorial, axis=1)\n",
    "del categorial[0]\n",
    "X_train_scaled = scaler.fit_transform(X_train_without_cats)\n",
    "#кросс-валидация логистической регрессии с подбором параметра С\n",
    "clf3 = LRCV(Cs=cs,cv = gen,scoring='roc_auc')\n",
    "t0 = time()\n",
    "clf3.fit(X_train_scaled, y_train)\n",
    "print(\"Оценка качества заняла %0.3f сек.\" % (time() - t0))\n",
    "#определение и вывод результатов кросс-валидации при наилучшем С\n",
    "best_c_index = np.where(cs == clf3.C_)[0][0]\n",
    "best_cvs = clf3.scores_[1][:, best_c_index]\n",
    "print 'Среднее оценки качества: ', best_cvs.mean()\n",
    "#print clf3.coef_\n"
   ]
  },
  {
   "cell_type": "markdown",
   "metadata": {},
   "source": [
    "2.&nbsp;Как влияет на качество логистической регрессии удаление категориальных признаков (укажите новое значение метрики качества)? Чем можно объяснить это изменение?"
   ]
  },
  {
   "cell_type": "markdown",
   "metadata": {},
   "source": [
    "Удаление категориальных признаков практически не повлияло на качество классификации. Это можно объяснить тем, что данные признаки имеют низкие веса, то есть являются малозначимыми при классификации."
   ]
  },
  {
   "cell_type": "markdown",
   "metadata": {},
   "source": [
    "3.&nbsp;Сколько различных идентификаторов героев существует в данной игре?"
   ]
  },
  {
   "cell_type": "code",
   "execution_count": 7,
   "metadata": {
    "collapsed": false
   },
   "outputs": [
    {
     "name": "stdout",
     "output_type": "stream",
     "text": [
      "112\n"
     ]
    }
   ],
   "source": [
    "unique =  sorted(np.unique(X_train[categorial].values))\n",
    "unique_len = len(np.unique(X_train[categorial].values))\n",
    "N = unique[-1]\n",
    "print N"
   ]
  },
  {
   "cell_type": "markdown",
   "metadata": {},
   "source": [
    "В данных выборки идентификаторы игроков нумеруются от 1 до 112, из них в выборке присутствуют 108."
   ]
  },
  {
   "cell_type": "markdown",
   "metadata": {},
   "source": [
    "4.&nbsp;Какое получилось качество при добавлении \"мешка слов\" по героям? Улучшилось ли оно по сравнению с предыдущим вариантом? Чем можно это объяснить?"
   ]
  },
  {
   "cell_type": "code",
   "execution_count": 8,
   "metadata": {
    "collapsed": false
   },
   "outputs": [
    {
     "name": "stdout",
     "output_type": "stream",
     "text": [
      "Оценка качества заняла 39.594 сек.\n",
      "Среднее оценки качества:  0.752019865543\n"
     ]
    }
   ],
   "source": [
    "X_pick = np.zeros((data.shape[0], N))\n",
    "for i, match_id in enumerate(data.index):\n",
    "    for p in xrange(5):\n",
    "        X_pick[i, data.loc[match_id, 'r%d_hero' % (p+1)]-1] = 1\n",
    "        X_pick[i, data.loc[match_id, 'd%d_hero' % (p+1)]-1] = -1\n",
    "\n",
    "\n",
    "X_train_with_bow = np.hstack((X_train_without_cats, X_pick))\n",
    "X_train_bow_scaled = scaler.fit_transform(X_train_with_bow)\n",
    "#кросс-валидация логистической регрессии с подбором параметра С\n",
    "clf4 = LRCV(Cs=cs,cv = gen,scoring='roc_auc')\n",
    "t0 = time()\n",
    "clf4.fit(X_train_bow_scaled, y_train)\n",
    "print(\"Оценка качества заняла %0.3f сек.\" % (time() - t0))\n",
    "#определение и вывод результатов кросс-валидации при наилучшем С\n",
    "best_c_index = np.where(cs == clf4.C_)[0][0]\n",
    "best_cvs = clf4.scores_[1][:, best_c_index]\n",
    "print 'Среднее оценки качества: ', best_cvs.mean()\n",
    "#print clf4.coef_"
   ]
  },
  {
   "cell_type": "markdown",
   "metadata": {},
   "source": [
    "Качество классификации улучшилось после добавления в модель \"мешка слов\". Это можно объяснить тем, замена категориальных признаков в выборке на их векторное представление позволило точнее настроить и обучить модель.\n",
    "Таким образом, данный классификатор имеет лучший показатель качества AUC-ROC на кросс-валидации и с помощью данной модели будет производиться предсказание."
   ]
  },
  {
   "cell_type": "markdown",
   "metadata": {},
   "source": [
    "5.&nbsp;Какое минимальное и максимальное значение прогноза на тестовой выборке получилось у лучшего из алгоритмов?"
   ]
  },
  {
   "cell_type": "code",
   "execution_count": 9,
   "metadata": {
    "collapsed": false
   },
   "outputs": [
    {
     "name": "stdout",
     "output_type": "stream",
     "text": [
      "Минимальное значение прогноза:  0.00849633654525\n",
      "Максимальное значение прогноза:  0.996279877533\n"
     ]
    }
   ],
   "source": [
    "#Чтение и обработка признаков тестовой выборки\n",
    "P_data = pd.read_csv('features_test.csv', index_col='match_id')\n",
    "P_data = P_data.drop(['lobby_type'],axis=1)\n",
    "P_data = P_data.fillna(0.,axis=1)\n",
    "X_pick = np.zeros((P_data.shape[0], N))\n",
    "for i, match_id in enumerate(P_data.index):\n",
    "    for p in xrange(5):\n",
    "        X_pick[i, P_data.loc[match_id, 'r%d_hero' % (p+1)]-1] = 1\n",
    "        X_pick[i, P_data.loc[match_id, 'd%d_hero' % (p+1)]-1] = -1\n",
    "        \n",
    "X_test = P_data.drop(categorial, axis=1)\n",
    "X_test = np.hstack((X_test, X_pick))\n",
    "X_test = scaler.transform(X_test)\n",
    "\n",
    "#Предсказание и вывод результатов\n",
    "result = pd.DataFrame(data = clf4.predict_proba(X_test)[:,1],\n",
    "                   index = P_data.index, columns=['radiant_win_prediction'])\n",
    "result.to_csv('result.csv')\n",
    "\n",
    "print 'Минимальное значение прогноза: ', result['radiant_win_prediction'].min()\n",
    "print 'Максимальное значение прогноза: ', result['radiant_win_prediction'].max()"
   ]
  }
 ],
 "metadata": {
  "kernelspec": {
   "display_name": "Python 3",
   "language": "python",
   "name": "python3"
  },
  "language_info": {
   "codemirror_mode": {
    "name": "ipython",
    "version": 3
   },
   "file_extension": ".py",
   "mimetype": "text/x-python",
   "name": "python",
   "nbconvert_exporter": "python",
   "pygments_lexer": "ipython3",
   "version": "3.6.0"
  }
 },
 "nbformat": 4,
 "nbformat_minor": 2
}
