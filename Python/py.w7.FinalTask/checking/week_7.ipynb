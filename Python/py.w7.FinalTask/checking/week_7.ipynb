{
 "cells": [
  {
   "cell_type": "markdown",
   "metadata": {},
   "source": [
    "# Week 7"
   ]
  },
  {
   "cell_type": "markdown",
   "metadata": {},
   "source": [
    "## Библиотеки"
   ]
  },
  {
   "cell_type": "code",
   "execution_count": 483,
   "metadata": {
    "collapsed": true
   },
   "outputs": [],
   "source": [
    "# -*- coding: utf-8 -*-\n",
    "from sklearn.model_selection import KFold, cross_val_score\n",
    "from sklearn.ensemble import GradientBoostingClassifier\n",
    "from sklearn.linear_model import LogisticRegression\n",
    "from sklearn.preprocessing import StandardScaler\n",
    "import matplotlib.pyplot as plt\n",
    "import datetime\n",
    "import pandas as pd\n",
    "import numpy as np"
   ]
  },
  {
   "cell_type": "markdown",
   "metadata": {},
   "source": [
    "## Предобработка данных"
   ]
  },
  {
   "cell_type": "code",
   "execution_count": 507,
   "metadata": {
    "collapsed": true
   },
   "outputs": [],
   "source": [
    "# Загрузка и обработка данных\n",
    "features = pd.read_csv('data/features.csv', index_col='match_id').drop(['duration', 'radiant_win', \n",
    "                                                                        'tower_status_radiant',\n",
    "                                                                        'tower_status_dire', \n",
    "                                                                        'barracks_status_radiant', \n",
    "                                                                        'barracks_status_dire'], axis=1)\n",
    "heroes = pd.read_csv('data/dictionaries/heroes.csv')\n",
    "y = pd.read_csv('data/features.csv', index_col='match_id')['radiant_win']\n",
    "# Поиск столбцов, в которых есть пропуски в данных\n",
    "array_header = [i for i in features.columns \n",
    "                if sum(pd.value_counts(features[i].values, sort=False))!=len(features.values)]\n",
    "# Замена пропусков и нулями. Создание итоговой матрицы Объект-Признак и ответов.\n",
    "X = features.fillna(value=0)\n",
    "\n",
    "# Нормализация признаков\n",
    "X_norm = StandardScaler().fit(X).transform(X)\n",
    "X_no_cat = X.drop(['lobby_type', 'r1_hero', 'r2_hero', 'r3_hero', 'r4_hero', 'r5_hero', \n",
    "                   'd1_hero', 'd2_hero', 'd3_hero', 'd4_hero', 'd5_hero'], axis=1)\n",
    "X_norm_catcat = StandardScaler().fit(X_no_cat).transform(X_no_cat)\n",
    "\n",
    "X_pick = np.zeros((X.shape[0], len(heroes)))\n",
    "for i, match_id in enumerate(X.index):\n",
    "    for p in xrange(5):\n",
    "        X_pick[i, X.ix[match_id, 'r%d_hero' % (p+1)]-1] = 1\n",
    "        X_pick[i, X.ix[match_id, 'd%d_hero' % (p+1)]-1] = -1\n",
    "    \n",
    "X_word = pd.concat([X_no_cat, pd.DataFrame(X_pick, index=X.index)], axis=1)\n",
    "X_norm_word = StandardScaler().fit(X_word).transform(X_word)"
   ]
  },
  {
   "cell_type": "markdown",
   "metadata": {},
   "source": [
    "## Функции"
   ]
  },
  {
   "cell_type": "code",
   "execution_count": 513,
   "metadata": {
    "collapsed": true
   },
   "outputs": [],
   "source": [
    "def score_mean_logistic(X, y, Num_Task):\n",
    "    C = map(lambda x: 10**x, range(-5,6))\n",
    "    kf = KFold(n_splits=5, shuffle=True)\n",
    "    print 'Task_'+ str(Num_Task)\n",
    "    result, time = [], []\n",
    "    for i in C: \n",
    "        clf = LogisticRegression(C=i, random_state=241)\n",
    "        start_time_training = datetime.datetime.now()\n",
    "        out_array = np.mean(cross_val_score(clf, X, y, cv=kf, scoring='roc_auc'))\n",
    "        time_work = datetime.datetime.now() - start_time_training\n",
    "        result.append(out_array)\n",
    "        time.append(time_work)\n",
    "        print 'C =', i,'Mean_scoring =', out_array, 'Time_training:', str(time_work) +'s', '\\n'\n",
    "    return result, time, C\n",
    "\n",
    "def score_mean_gradboost(X, y):\n",
    "    n = map(lambda x: 10*x, range(1,10))\n",
    "    kf = KFold(n_splits=5, shuffle=True)\n",
    "    print 'Task_GradientBoost'\n",
    "    result, time = [], []\n",
    "    for i in n: \n",
    "        clf = GradientBoostingClassifier(n_estimators=i, random_state=241)\n",
    "        start_time_training = datetime.datetime.now()\n",
    "        out_array = np.mean(cross_val_score(clf, X, y, cv=kf, scoring='roc_auc'))\n",
    "        time_work = datetime.datetime.now() - start_time_training\n",
    "        result.append(out_array)\n",
    "        time.append(time_work)\n",
    "        print 'n =', i,'Mean_scoring =', out_array, 'Time_training:', str(time_work) +'s', '\\n'\n",
    "    return result, time, n\n",
    "\n",
    "def optim(x, tol):\n",
    "    for i in range(len(x) - 1):\n",
    "        if np.abs(x[i+1] - x[i]) > tol:\n",
    "            optim = x[i+1]\n",
    "    return np.where(x==optim)[0][0] "
   ]
  },
  {
   "cell_type": "markdown",
   "metadata": {},
   "source": [
    "## Обучение"
   ]
  },
  {
   "cell_type": "code",
   "execution_count": 501,
   "metadata": {
    "collapsed": false
   },
   "outputs": [
    {
     "name": "stdout",
     "output_type": "stream",
     "text": [
      "Task_GradientBoost\n",
      "n = 10 Mean_scoring = 0.66461676637 Time_training: 0:00:47.779432s \n",
      "\n",
      "n = 20 Mean_scoring = 0.681778045186 Time_training: 0:01:25.973428s \n",
      "\n",
      "n = 30 Mean_scoring = 0.689447482042 Time_training: 0:02:03.582356s \n",
      "\n",
      "n = 40 Mean_scoring = 0.693627766457 Time_training: 0:02:50.943981s \n",
      "\n",
      "n = 50 Mean_scoring = 0.69738277627 Time_training: 0:03:20.668958s \n",
      "\n",
      "n = 60 Mean_scoring = 0.700493172566 Time_training: 0:04:09.008844s \n",
      "\n",
      "n = 70 Mean_scoring = 0.702011747168 Time_training: 0:04:58.167115s \n",
      "\n",
      "n = 80 Mean_scoring = 0.703918737092 Time_training: 0:05:36.692178s \n",
      "\n",
      "n = 90 Mean_scoring = 0.705264877213 Time_training: 0:06:02.702865s \n",
      "\n"
     ]
    }
   ],
   "source": [
    "# Обучение градиентный бустинг\n",
    "result, time, n = score_mean_gradboost(X, y)"
   ]
  },
  {
   "cell_type": "code",
   "execution_count": 514,
   "metadata": {
    "collapsed": false
   },
   "outputs": [
    {
     "name": "stdout",
     "output_type": "stream",
     "text": [
      "Task_1\n",
      "C = 1e-05 Mean_scoring = 0.695139311554 Time_training: 0:00:05.313597s \n",
      "\n",
      "C = 0.0001 Mean_scoring = 0.711336336324 Time_training: 0:00:09.221526s \n",
      "\n",
      "C = 0.001 Mean_scoring = 0.7161916355 Time_training: 0:00:13.547714s \n",
      "\n",
      "C = 0.01 Mean_scoring = 0.716370292736 Time_training: 0:00:18.147708s \n",
      "\n",
      "C = 0.1 Mean_scoring = 0.716362389024 Time_training: 0:00:18.990170s \n",
      "\n",
      "C = 1 Mean_scoring = 0.716507549805 Time_training: 0:00:19.907182s \n",
      "\n",
      "C = 10 Mean_scoring = 0.716498802362 Time_training: 0:00:18.033237s \n",
      "\n",
      "C = 100 Mean_scoring = 0.716447145429 Time_training: 0:00:20.166188s \n",
      "\n",
      "C = 1000 Mean_scoring = 0.716195964002 Time_training: 0:00:21.464740s \n",
      "\n",
      "C = 10000 Mean_scoring = 0.716368323488 Time_training: 0:00:19.588072s \n",
      "\n",
      "C = 100000 Mean_scoring = 0.716292553065 Time_training: 0:00:20.852680s \n",
      "\n",
      "Task_2\n",
      "C = 1e-05 Mean_scoring = 0.695161416632 Time_training: 0:00:04.686877s \n",
      "\n",
      "C = 0.0001 Mean_scoring = 0.711326077548 Time_training: 0:00:06.892402s \n",
      "\n",
      "C = 0.001 Mean_scoring = 0.716253257067 Time_training: 0:00:11.157395s \n",
      "\n",
      "C = 0.01 Mean_scoring = 0.716334762495 Time_training: 0:00:15.369970s \n",
      "\n",
      "C = 0.1 Mean_scoring = 0.716429927448 Time_training: 0:00:17.568365s \n",
      "\n",
      "C = 1 Mean_scoring = 0.716282294768 Time_training: 0:00:17.596422s \n",
      "\n",
      "C = 10 Mean_scoring = 0.716384381187 Time_training: 0:00:16.513975s \n",
      "\n",
      "C = 100 Mean_scoring = 0.71644057826 Time_training: 0:00:16.480035s \n",
      "\n",
      "C = 1000 Mean_scoring = 0.716650121037 Time_training: 0:00:17.020821s \n",
      "\n",
      "C = 10000 Mean_scoring = 0.716305546984 Time_training: 0:00:16.408819s \n",
      "\n",
      "C = 100000 Mean_scoring = 0.716534932848 Time_training: 0:00:16.717107s \n",
      "\n",
      "Task_3\n",
      "C = 1e-05 Mean_scoring = 0.714865677678 Time_training: 0:00:10.978580s \n",
      "\n",
      "C = 0.0001 Mean_scoring = 0.742732312426 Time_training: 0:00:13.133895s \n",
      "\n",
      "C = 0.001 Mean_scoring = 0.751649765515 Time_training: 0:00:26.345067s \n",
      "\n",
      "C = 0.01 Mean_scoring = 0.751682790007 Time_training: 0:00:32.908988s \n",
      "\n",
      "C = 0.1 Mean_scoring = 0.751797065855 Time_training: 0:00:34.044266s \n",
      "\n",
      "C = 1 Mean_scoring = 0.751768374895 Time_training: 0:00:33.383435s \n",
      "\n",
      "C = 10 Mean_scoring = 0.751715268798 Time_training: 0:00:34.254684s \n",
      "\n",
      "C = 100 Mean_scoring = 0.751958621062 Time_training: 0:00:32.891788s \n",
      "\n",
      "C = 1000 Mean_scoring = 0.75182680539 Time_training: 0:00:32.814025s \n",
      "\n",
      "C = 10000 Mean_scoring = 0.751853891468 Time_training: 0:00:36.366378s \n",
      "\n",
      "C = 100000 Mean_scoring = 0.751954004063 Time_training: 0:00:33.408410s \n",
      "\n"
     ]
    }
   ],
   "source": [
    "# Обучение логистической регрессии\n",
    "result_1, time_1, C_1 = score_mean_logistic(X_norm, y, 1)\n",
    "result_2, time_2, C_2 = score_mean_logistic(X_norm_no_cat, y, 2)\n",
    "result_3, time_3, C_3 = score_mean_logistic(X_norm_word, y, 3)"
   ]
  },
  {
   "cell_type": "markdown",
   "metadata": {},
   "source": [
    "## Результаты"
   ]
  },
  {
   "cell_type": "code",
   "execution_count": 517,
   "metadata": {
    "collapsed": false
   },
   "outputs": [
    {
     "name": "stdout",
     "output_type": "stream",
     "text": [
      "Признаки с пропусками:  first_blood_time, first_blood_team, first_blood_player1, first_blood_player2, radiant_bottle_time, radiant_courier_time, radiant_flying_courier_time, radiant_first_ward_time, dire_bottle_time, dire_courier_time, dire_flying_courier_time, dire_first_ward_time \n",
      "\n",
      "Количество деревьев n = 90\n",
      "Оптимальная значение ROC_AUC = 0.705264877213\n",
      "Время обучения = 0:06:02.702865 \n",
      "\n",
      "Оптимальный коэффицент регуляризации C = 0.001\n",
      "Оптимальная значение ROC_AUC = 0.7161916355\n",
      "Время обучения = 0:00:13.547714 \n",
      "\n",
      "Оптимальный коэффицент регуляризации C = 0.001\n",
      "Оптимальная значение ROC_AUC = 0.716253257067\n",
      "Время обучения = 0:00:11.157395 \n",
      "\n",
      "Оптимальный коэффицент регуляризации C = 0.001\n",
      "Оптимальная значение ROC_AUC = 0.751649765515\n",
      "Время обучения = 0:00:26.345067 \n",
      "\n",
      "Количество уникальных индетификаторов = 108\n"
     ]
    },
    {
     "data": {
      "image/png": "[encoded data removed]",
      "text/plain": [
       "<matplotlib.figure.Figure at 0x1126313d0>"
      ]
     },
     "metadata": {},
     "output_type": "display_data"
    }
   ],
   "source": [
    "%matplotlib inline\n",
    "plt.figure()\n",
    "# l\n",
    "plt.subplot(221)\n",
    "plt.plot(n, result)\n",
    "plt.xlabel('n')\n",
    "plt.ylabel('Value')\n",
    "plt.title('Task_GradBoost')\n",
    "plt.grid(True)\n",
    "\n",
    "# 2\n",
    "plt.subplot(222)\n",
    "plt.plot(np.log(C), result_1)\n",
    "plt.xlabel('C')\n",
    "plt.ylabel('Value')\n",
    "plt.title('Task_LR_1')\n",
    "plt.grid(True)\n",
    "\n",
    "# 3 \n",
    "plt.subplot(223)\n",
    "plt.plot(np.log(C), result_2)\n",
    "plt.xlabel('C')\n",
    "plt.ylabel('Value')\n",
    "plt.title('Task_LR_2')\n",
    "plt.grid(True)\n",
    "\n",
    "# 3 \n",
    "plt.subplot(224)\n",
    "plt.plot(np.log(C), result_3)\n",
    "plt.xlabel('C')\n",
    "plt.ylabel('Value')\n",
    "plt.title('Task_LR_3')\n",
    "plt.grid(True)\n",
    "\n",
    "plt.subplots_adjust(top=0.99, bottom=0.01, left=0.01, right=0.99, hspace=0.45,wspace=0.55)\n",
    "\n",
    "print 'Признаки с пропусками: ', ', '.join(array_header), '\\n'\n",
    "\n",
    "print 'Количество деревьев n =', n[optim(result, 0.001)]\n",
    "print 'Оптимальная значение ROC_AUC =', result[optim(result, 0.001)]\n",
    "print 'Время обучения =', time[optim(result, 0.001)], '\\n'\n",
    "\n",
    "print 'Оптимальный коэффицент регуляризации C =', C_1[optim(result_1, 0.001)]\n",
    "print 'Оптимальная значение ROC_AUC =', result_1[optim(result_1, 0.001)]\n",
    "print 'Время обучения =', time_1[optim(result_1, 0.001)], '\\n'\n",
    "\n",
    "print 'Оптимальный коэффицент регуляризации C =', C_2[optim(result_2, 0.001)]\n",
    "print 'Оптимальная значение ROC_AUC =', result_2[optim(result_2, 0.001)]\n",
    "print 'Время обучения =', time_2[optim(result_2, 0.001)], '\\n'\n",
    "\n",
    "print 'Оптимальный коэффицент регуляризации C =', C_3[optim(result_3, 0.001)]\n",
    "print 'Оптимальная значение ROC_AUC =', result_3[optim(result_3, 0.001)]\n",
    "print 'Время обучения =', time_3[optim(result_2, 0.001)], '\\n'\n",
    "\n",
    "print 'Количество уникальных индетификаторов =', len(X['d1_hero'].unique())"
   ]
  },
  {
   "cell_type": "markdown",
   "metadata": {},
   "source": [
    "## Тестирование на новых данных"
   ]
  },
  {
   "cell_type": "code",
   "execution_count": 523,
   "metadata": {
    "collapsed": false
   },
   "outputs": [
    {
     "name": "stdout",
     "output_type": "stream",
     "text": [
      "Max =  0.994842213646 Min = 0.00989181699203\n"
     ]
    }
   ],
   "source": [
    "features_test = pd.read_csv('data/features_test.csv', index_col='match_id')\n",
    "X_test = features_test.fillna(value=0)\n",
    "X_no_cat_test = X_test.drop(['lobby_type', 'r1_hero', 'r2_hero', 'r3_hero', 'r4_hero', 'r5_hero', \n",
    "                   'd1_hero', 'd2_hero', 'd3_hero', 'd4_hero', 'd5_hero'], axis=1)\n",
    "X_pick_test = np.zeros((X_test.shape[0], len(heroes)))\n",
    "for i, match_id in enumerate(X_test.index):\n",
    "    for p in xrange(5):\n",
    "        X_pick_test[i, X_test.ix[match_id, 'r%d_hero' % (p+1)]-1] = 1\n",
    "        X_pick_test[i, X_test.ix[match_id, 'd%d_hero' % (p+1)]-1] = -1\n",
    "    \n",
    "X_word_test = pd.concat([X_no_cat_test, pd.DataFrame(X_pick_test, index=X_test.index)], axis=1)\n",
    "X_norm_word_test = StandardScaler().fit(X_word_test).transform(X_word_test)\n",
    "\n",
    "clf = LogisticRegression(C=0.001, random_state=241)\n",
    "clf.fit(X_norm_word, y)\n",
    "out_array = clf.predict_proba(X_norm_word_test)\n",
    "print 'Max = ', np.max(out_array[:,1]), 'Min =', np.min(out_array[:,1])"
   ]
  }
 ],
 "metadata": {
  "kernelspec": {
   "display_name": "Python 3",
   "language": "python",
   "name": "python3"
  },
  "language_info": {
   "codemirror_mode": {
    "name": "ipython",
    "version": 3
   },
   "file_extension": ".py",
   "mimetype": "text/x-python",
   "name": "python",
   "nbconvert_exporter": "python",
   "pygments_lexer": "ipython3",
   "version": "3.6.0"
  }
 },
 "nbformat": 4,
 "nbformat_minor": 2
}
